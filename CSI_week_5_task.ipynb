{
 "cells": [
  {
   "cell_type": "code",
   "execution_count": 9,
   "id": "7062a992",
   "metadata": {},
   "outputs": [],
   "source": [
    "import numpy as np\n",
    "import pandas as pd"
   ]
  },
  {
   "cell_type": "code",
   "execution_count": 10,
   "id": "3fc6f37e",
   "metadata": {},
   "outputs": [],
   "source": [
    "df = pd.read_csv('train.csv')"
   ]
  },
  {
   "cell_type": "code",
   "execution_count": 11,
   "id": "abc6827e",
   "metadata": {},
   "outputs": [
    {
     "name": "stdout",
     "output_type": "stream",
     "text": [
      "<class 'pandas.core.frame.DataFrame'>\n",
      "RangeIndex: 891 entries, 0 to 890\n",
      "Data columns (total 12 columns):\n",
      " #   Column       Non-Null Count  Dtype  \n",
      "---  ------       --------------  -----  \n",
      " 0   PassengerId  891 non-null    int64  \n",
      " 1   Survived     891 non-null    int64  \n",
      " 2   Pclass       891 non-null    int64  \n",
      " 3   Name         891 non-null    object \n",
      " 4   Sex          891 non-null    object \n",
      " 5   Age          714 non-null    float64\n",
      " 6   SibSp        891 non-null    int64  \n",
      " 7   Parch        891 non-null    int64  \n",
      " 8   Ticket       891 non-null    object \n",
      " 9   Fare         891 non-null    float64\n",
      " 10  Cabin        204 non-null    object \n",
      " 11  Embarked     889 non-null    object \n",
      "dtypes: float64(2), int64(5), object(5)\n",
      "memory usage: 83.7+ KB\n"
     ]
    }
   ],
   "source": [
    "df.info()"
   ]
  },
  {
   "cell_type": "code",
   "execution_count": 14,
   "id": "71341fa0",
   "metadata": {},
   "outputs": [],
   "source": [
    "cols = ['Name','Ticket','Cabin']\n",
    "df = df.drop(cols,axis = 1)"
   ]
  },
  {
   "cell_type": "code",
   "execution_count": 15,
   "id": "0d1306ea",
   "metadata": {},
   "outputs": [
    {
     "name": "stdout",
     "output_type": "stream",
     "text": [
      "<class 'pandas.core.frame.DataFrame'>\n",
      "RangeIndex: 891 entries, 0 to 890\n",
      "Data columns (total 9 columns):\n",
      " #   Column       Non-Null Count  Dtype  \n",
      "---  ------       --------------  -----  \n",
      " 0   PassengerId  891 non-null    int64  \n",
      " 1   Survived     891 non-null    int64  \n",
      " 2   Pclass       891 non-null    int64  \n",
      " 3   Sex          891 non-null    object \n",
      " 4   Age          714 non-null    float64\n",
      " 5   SibSp        891 non-null    int64  \n",
      " 6   Parch        891 non-null    int64  \n",
      " 7   Fare         891 non-null    float64\n",
      " 8   Embarked     889 non-null    object \n",
      "dtypes: float64(2), int64(5), object(2)\n",
      "memory usage: 62.8+ KB\n"
     ]
    }
   ],
   "source": [
    "df.info()"
   ]
  },
  {
   "cell_type": "code",
   "execution_count": 17,
   "id": "9dae9d42",
   "metadata": {},
   "outputs": [],
   "source": [
    "df = df.dropna()"
   ]
  },
  {
   "cell_type": "code",
   "execution_count": 18,
   "id": "03ef9f03",
   "metadata": {},
   "outputs": [
    {
     "name": "stdout",
     "output_type": "stream",
     "text": [
      "<class 'pandas.core.frame.DataFrame'>\n",
      "Int64Index: 712 entries, 0 to 890\n",
      "Data columns (total 9 columns):\n",
      " #   Column       Non-Null Count  Dtype  \n",
      "---  ------       --------------  -----  \n",
      " 0   PassengerId  712 non-null    int64  \n",
      " 1   Survived     712 non-null    int64  \n",
      " 2   Pclass       712 non-null    int64  \n",
      " 3   Sex          712 non-null    object \n",
      " 4   Age          712 non-null    float64\n",
      " 5   SibSp        712 non-null    int64  \n",
      " 6   Parch        712 non-null    int64  \n",
      " 7   Fare         712 non-null    float64\n",
      " 8   Embarked     712 non-null    object \n",
      "dtypes: float64(2), int64(5), object(2)\n",
      "memory usage: 55.6+ KB\n"
     ]
    }
   ],
   "source": [
    "df.info()"
   ]
  },
  {
   "cell_type": "code",
   "execution_count": 19,
   "id": "78ed3eba",
   "metadata": {},
   "outputs": [],
   "source": [
    "dummies = []\n",
    "cols = ['Pclass','Sex','Embarked']\n",
    "for col in cols:\n",
    "    dummies.append(pd.get_dummies(df[col]))"
   ]
  },
  {
   "cell_type": "code",
   "execution_count": 22,
   "id": "d042b3bc",
   "metadata": {},
   "outputs": [],
   "source": [
    "titanic_dummies = pd.concat(dummies, axis=1)\n"
   ]
  },
  {
   "cell_type": "code",
   "execution_count": 23,
   "id": "c9bf61fe",
   "metadata": {},
   "outputs": [],
   "source": [
    "df = pd.concat((df,titanic_dummies), axis = 1)"
   ]
  },
  {
   "cell_type": "code",
   "execution_count": 24,
   "id": "20f958f5",
   "metadata": {},
   "outputs": [],
   "source": [
    "df = df.drop(['Pclass','Sex','Embarked'],axis = 1)"
   ]
  },
  {
   "cell_type": "code",
   "execution_count": 25,
   "id": "c2f05eb8",
   "metadata": {},
   "outputs": [
    {
     "name": "stdout",
     "output_type": "stream",
     "text": [
      "<class 'pandas.core.frame.DataFrame'>\n",
      "Int64Index: 712 entries, 0 to 890\n",
      "Data columns (total 14 columns):\n",
      " #   Column       Non-Null Count  Dtype  \n",
      "---  ------       --------------  -----  \n",
      " 0   PassengerId  712 non-null    int64  \n",
      " 1   Survived     712 non-null    int64  \n",
      " 2   Age          712 non-null    float64\n",
      " 3   SibSp        712 non-null    int64  \n",
      " 4   Parch        712 non-null    int64  \n",
      " 5   Fare         712 non-null    float64\n",
      " 6   1            712 non-null    uint8  \n",
      " 7   2            712 non-null    uint8  \n",
      " 8   3            712 non-null    uint8  \n",
      " 9   female       712 non-null    uint8  \n",
      " 10  male         712 non-null    uint8  \n",
      " 11  C            712 non-null    uint8  \n",
      " 12  Q            712 non-null    uint8  \n",
      " 13  S            712 non-null    uint8  \n",
      "dtypes: float64(2), int64(4), uint8(8)\n",
      "memory usage: 44.5 KB\n"
     ]
    }
   ],
   "source": [
    "df.info()"
   ]
  },
  {
   "cell_type": "code",
   "execution_count": 26,
   "id": "3c574a44",
   "metadata": {},
   "outputs": [],
   "source": [
    "df['Age'] = df['Age'].interpolate()"
   ]
  },
  {
   "cell_type": "code",
   "execution_count": 27,
   "id": "6b97ec04",
   "metadata": {},
   "outputs": [
    {
     "name": "stdout",
     "output_type": "stream",
     "text": [
      "<class 'pandas.core.frame.DataFrame'>\n",
      "Int64Index: 712 entries, 0 to 890\n",
      "Data columns (total 14 columns):\n",
      " #   Column       Non-Null Count  Dtype  \n",
      "---  ------       --------------  -----  \n",
      " 0   PassengerId  712 non-null    int64  \n",
      " 1   Survived     712 non-null    int64  \n",
      " 2   Age          712 non-null    float64\n",
      " 3   SibSp        712 non-null    int64  \n",
      " 4   Parch        712 non-null    int64  \n",
      " 5   Fare         712 non-null    float64\n",
      " 6   1            712 non-null    uint8  \n",
      " 7   2            712 non-null    uint8  \n",
      " 8   3            712 non-null    uint8  \n",
      " 9   female       712 non-null    uint8  \n",
      " 10  male         712 non-null    uint8  \n",
      " 11  C            712 non-null    uint8  \n",
      " 12  Q            712 non-null    uint8  \n",
      " 13  S            712 non-null    uint8  \n",
      "dtypes: float64(2), int64(4), uint8(8)\n",
      "memory usage: 44.5 KB\n"
     ]
    }
   ],
   "source": [
    "df.info()"
   ]
  },
  {
   "cell_type": "code",
   "execution_count": 28,
   "id": "21fd6599",
   "metadata": {},
   "outputs": [
    {
     "name": "stdout",
     "output_type": "stream",
     "text": [
      "     PassengerId  Survived   Age  SibSp  Parch     Fare  1  2  3  female  \\\n",
      "0              1         0  22.0      1      0   7.2500  0  0  1       0   \n",
      "1              2         1  38.0      1      0  71.2833  1  0  0       1   \n",
      "2              3         1  26.0      0      0   7.9250  0  0  1       1   \n",
      "3              4         1  35.0      1      0  53.1000  1  0  0       1   \n",
      "4              5         0  35.0      0      0   8.0500  0  0  1       0   \n",
      "..           ...       ...   ...    ...    ...      ... .. .. ..     ...   \n",
      "885          886         0  39.0      0      5  29.1250  0  0  1       1   \n",
      "886          887         0  27.0      0      0  13.0000  0  1  0       0   \n",
      "887          888         1  19.0      0      0  30.0000  1  0  0       1   \n",
      "889          890         1  26.0      0      0  30.0000  1  0  0       0   \n",
      "890          891         0  32.0      0      0   7.7500  0  0  1       0   \n",
      "\n",
      "     male  C  Q  S  \n",
      "0       1  0  0  1  \n",
      "1       0  1  0  0  \n",
      "2       0  0  0  1  \n",
      "3       0  0  0  1  \n",
      "4       1  0  0  1  \n",
      "..    ... .. .. ..  \n",
      "885     0  0  1  0  \n",
      "886     1  0  0  1  \n",
      "887     0  0  0  1  \n",
      "889     1  1  0  0  \n",
      "890     1  0  1  0  \n",
      "\n",
      "[712 rows x 14 columns]\n"
     ]
    }
   ],
   "source": [
    "print(df)"
   ]
  },
  {
   "cell_type": "code",
   "execution_count": 33,
   "id": "1cb77745",
   "metadata": {},
   "outputs": [],
   "source": [
    "X = df.values\n",
    "y = df['Survived'].values"
   ]
  },
  {
   "cell_type": "code",
   "execution_count": 34,
   "id": "1946dca4",
   "metadata": {},
   "outputs": [],
   "source": [
    "X = np.delete(X,1,axis = 1)"
   ]
  },
  {
   "cell_type": "code",
   "execution_count": 35,
   "id": "44c48948",
   "metadata": {},
   "outputs": [],
   "source": [
    "from sklearn.model_selection import train_test_split\n",
    "X_train, X_test, y_train, y_test = train_test_split(X,y,test_size = 0.3,random_state = 0)"
   ]
  }
 ],
 "metadata": {
  "kernelspec": {
   "display_name": "Python 3 (ipykernel)",
   "language": "python",
   "name": "python3"
  },
  "language_info": {
   "codemirror_mode": {
    "name": "ipython",
    "version": 3
   },
   "file_extension": ".py",
   "mimetype": "text/x-python",
   "name": "python",
   "nbconvert_exporter": "python",
   "pygments_lexer": "ipython3",
   "version": "3.9.13"
  }
 },
 "nbformat": 4,
 "nbformat_minor": 5
}
